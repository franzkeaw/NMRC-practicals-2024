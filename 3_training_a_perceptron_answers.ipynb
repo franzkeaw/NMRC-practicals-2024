{
 "cells": [
  {
   "cell_type": "markdown",
   "metadata": {},
   "source": [
    "# Training a perceptron\n",
    "\n",
    "We consider again a neuron which receives two inputs $x_1$ and $x_2$. You should be already familiar with the following equations, but we recap them here for clarity. The neuron combines the inputs $x_i$ as \n",
    "\n",
    "\\begin{equation}\n",
    "s = \\sum_{i=1}^2 w_i x_i + b\n",
    "\\end{equation}\n",
    "\n",
    "And then passes this value through an activation function $f$ to compute the output\n",
    "\n",
    "\\begin{equation}\n",
    "\\hat{y} = f(s)\n",
    "\\end{equation}\n",
    "\n",
    "Before proceeding, notice that we are using a slightly different notation with respect to the previous lectures. This is done in order to maintain consistency with the notation used in the lecture on backpropagation, which deals with how neural networks are trained, and is thus more closely releated with the material here. Here $x_i$ is the $i^{th}$ input, $w_i$ is the synaptic weight of the $i^{th}$ input, $b$ is the bias, $s$ is the weighted sum of inputs computed at the neuron, and $\\hat{y}$ is the output (i.e. the activation) of the neuron, after the weighted sum $s$ has been passed through the transfer function $f$. Also notice that the bias now appears with a positive sign ($+b$ instead of $-b$): this, however, should not confuse you, since from a modeling point of view the bias is just a constant that allows to move the activation threshold of our neuron, so this is just a matter of notation (if we have $+b$, increasing the bias will move the threshold up, if we have $-b$ increasing the bias will move the threshold down)\n",
    "\n",
    "In the previous practical we were able to manually adjust the weights to get the right output, by a sort of trial and error procedure. In this tutorial we are going to understand a principled way by which synaptic connections can be updated such that the neuron can produce the desired output. For this to work, we clearly need to know what this desired output is: we call this desired output the _target_ $y$. This allows us to compute an error, which measures the mismatch between the output of our neuron, and our desired output. The error (more commonly referred to as the _loss_ in the machine learning world) can be defined in various ways. Here, we use the following\n",
    "\n",
    "\\begin{equation}\n",
    "L = \\frac{1}{2}(\\hat{y}-y)^2\n",
    "\\end{equation}\n",
    "\n",
    "Our neuron is going to implement the `hardlim` transfer function.\n",
    "\n",
    "\\begin{equation}\n",
    "\\hat{y} = f(s) = \n",
    "\\left\\{\\begin{matrix}\n",
    "1 & \\mathrm{if} \\, s>0\\\\ \n",
    "0 & \\mathrm{otherwise}\n",
    "\\end{matrix}\\right.\n",
    "\\end{equation}\n",
    "\n",
    "Equipped with this function, this simple network corresponds to one of the very first neural networks ever introduced, the so-called *perceptron*. This neuron behaves as a *classifier*: it either responds (i.e. it outputs 1) or does nothing (i.e. it outputs 0), which means it is ideal for grouping input into two classes. \n",
    "\n",
    "We can think of the inputs $x_1$ and $x_2$ as representing some feature of the environment, such as the distance and the aggressiveness of an animal present in the visual field. Based on these inputs, the neuron can 'decide' whether the situation is dangerous or not. \n",
    "\n",
    "## Part 1 - The perceptron learning rule\n",
    "\n",
    "We are now going to try and understand how we can change the synaptic weights of our perceptron in a principled way. For this part, we focus on a single input $x$ and a single weight $w$."
   ]
  },
  {
   "cell_type": "markdown",
   "metadata": {},
   "source": [
    "### Question 1\n",
    "<div style=\"height: 10px;\"></div>\n",
    "<div style=\"border: 2px solid black; padding: 10px; width: 100%; margin: 0 auto;\">\n",
    "Suppose you have the following values for the input $x$, the output $\\hat{y}$, and the target $y$.\n",
    "\\begin{align}\n",
    "x &= 0.5 \\\\\n",
    "\\hat{y} &= 1 \\\\\n",
    "y &= 0 \\\\\n",
    "\\end{align}\n",
    "In which direction should the weight $w$ change such that our output becomes closer to the desired output? i.e. should $w$ increase ($\\Delta w > 0$) or decrease ($\\Delta w < 0$)?\n",
    "</div>"
   ]
  },
  {
   "cell_type": "markdown",
   "metadata": {},
   "source": [
    "### Answer 1\n",
    "<div style=\"height: 10px;\"></div>\n",
    "<div style=\"border: 2px solid black; padding: 10px; width: 100%; margin: 0 auto;\">\n",
    "Here $\\hat{y}$ is larger than $y$, meaning too much activity. Since the input $x$ weight was **positive**, the weight should **decrease**. \n",
    "</div>"
   ]
  },
  {
   "cell_type": "markdown",
   "metadata": {},
   "source": [
    "### Question 2\n",
    "<div style=\"height: 10px;\"></div>\n",
    "<div style=\"border: 2px solid black; padding: 10px; width: 100%; margin: 0 auto;\">\n",
    "Consider now this set of values:\n",
    "\\begin{align}\n",
    "x &= -0.5 \\\\\n",
    "\\hat{y} &= 1 \\\\\n",
    "y &= 0 \\\\\n",
    "\\end{align}\n",
    "In which direction should the weight change this time?\n",
    "</div>"
   ]
  },
  {
   "cell_type": "markdown",
   "metadata": {},
   "source": [
    "### Answer 2\n",
    "<div style=\"height: 10px;\"></div>\n",
    "<div style=\"border: 2px solid black; padding: 10px; width: 100%; margin: 0 auto;\">\n",
    "Too much activity. Since the input $x$ was **negative**, the weight should **increase** \n",
    "</div>"
   ]
  },
  {
   "cell_type": "markdown",
   "metadata": {},
   "source": [
    "### Question 3\n",
    "<div style=\"height: 10px;\"></div>\n",
    "<div style=\"border: 2px solid black; padding: 10px; width: 100%; margin: 0 auto;\">\n",
    "Consider\n",
    "\\begin{align}\n",
    "x &= 0.5 \\\\\n",
    "\\hat{y} &= 0 \\\\\n",
    "y &= 1 \\\\\n",
    "\\end{align}\n",
    "In which direction should the weight change this time?\n",
    "</div>"
   ]
  },
  {
   "cell_type": "markdown",
   "metadata": {},
   "source": [
    "### Answer 3\n",
    "<div style=\"height: 10px;\"></div>\n",
    "<div style=\"border: 2px solid black; padding: 10px; width: 100%; margin: 0 auto;\">\n",
    "Too little activity. Since the input $x$ weight was **positive**, the weight should **increase** \n",
    "</div>"
   ]
  },
  {
   "cell_type": "markdown",
   "metadata": {},
   "source": [
    "### Question 4\n",
    "<div style=\"height: 10px;\"></div>\n",
    "<div style=\"border: 2px solid black; padding: 10px; width: 100%; margin: 0 auto;\">\n",
    "Consider\n",
    "\\begin{align}\n",
    "x &= -0.5 \\\\\n",
    "\\hat{y} &= 0 \\\\\n",
    "y &= 1 \\\\\n",
    "\\end{align}\n",
    "In which direction should the weight change this time?\n",
    "</div>"
   ]
  },
  {
   "cell_type": "markdown",
   "metadata": {},
   "source": [
    "### Answer 4\n",
    "<div style=\"height: 10px;\"></div>\n",
    "<div style=\"border: 2px solid black; padding: 10px; width: 100%; margin: 0 auto;\">\n",
    "Too little activity. Since the input $x$ weight was **negative**, the weight should **decrease** \n",
    "</div>"
   ]
  },
  {
   "cell_type": "markdown",
   "metadata": {},
   "source": [
    "You probably realized that the sign of the input $x$ matters for how we should change the weight (if not, go back and check your answers again!). And of course the difference between output and target $e=(y-\\hat{y})$ also matters. The cases that were presented above can be summarized in the following table: \n",
    "\n",
    "| $e$    | $x$      | $\\Delta w$|\n",
    "| ----------:|:------:| -----:|\n",
    "| > 0         | > 0    |    ?   |\n",
    "| > 0         | < 0    |    ?   |\n",
    "| < 0         | > 0    |    ?   |\n",
    "| < 0         | < 0    |    ?   |"
   ]
  },
  {
   "cell_type": "markdown",
   "metadata": {},
   "source": [
    "### Question 5\n",
    "<div style=\"height: 10px;\"></div>\n",
    "<div style=\"border: 2px solid black; padding: 10px; width: 100%; margin: 0 auto;\">\n",
    "Complete the table in the answer cell below.\n",
    "</div>"
   ]
  },
  {
   "cell_type": "markdown",
   "metadata": {},
   "source": [
    "### Answer 5\n",
    "<div style=\"height: 10px;\"></div>\n",
    "<div style=\"border: 2px solid black; padding: 10px; width: 100%; margin: 0 auto;\">\n",
    "See answer in table below:\n",
    "</div>\n",
    "\n",
    "| $e$    | $x$      | $\\Delta w$|\n",
    "| ----------:|:------:| -----:|\n",
    "| > 0         | > 0    |    +   |\n",
    "| > 0         | < 0    |    -   |\n",
    "| < 0         | > 0    |    -   |\n",
    "| < 0         | < 0    |    +   |"
   ]
  },
  {
   "cell_type": "markdown",
   "metadata": {},
   "source": [
    "### Question 6\n",
    "<div style=\"height: 10px;\"></div>\n",
    "<div style=\"border: 2px solid black; padding: 10px; width: 100%; margin: 0 auto;\">\n",
    "So, the table tells us in which direction we should change $w$ given the signs of $e$ and $x$. What function of $f(e, x)$ achieves this behavior?\n",
    "\n",
    "_Hint:_ try $\\Delta w = e + x$. Do you get the desired behavior?\n",
    "</div>"
   ]
  },
  {
   "cell_type": "markdown",
   "metadata": {},
   "source": [
    "### Answer 6\n",
    "<div style=\"height: 10px;\"></div>\n",
    "<div style=\"border: 2px solid black; padding: 10px; width: 100%; margin: 0 auto;\">\n",
    "You do not. The sign of e and x matter, so a sum will not result in the correct weight change:\n",
    "$\\Delta w =e \\times x = (y - \\hat{y})x$\n",
    "</div>"
   ]
  },
  {
   "cell_type": "markdown",
   "metadata": {},
   "source": [
    "If you were able to answer the previous question correctly, you came to the conclusion that $\\Delta w = e \\times x = (y-\\hat{y})x$. While this may not seem like much, you have actually just deduced the __perceptron learning rule__, as you can see on [Wikipedia](https://en.wikipedia.org/wiki/Perceptron). \n",
    "\n",
    "We forgot one thing though: the bias! We need to learn that too!"
   ]
  },
  {
   "cell_type": "markdown",
   "metadata": {},
   "source": [
    "### Question 7\n",
    "<div style=\"height: 10px;\"></div>\n",
    "<div style=\"border: 2px solid black; padding: 10px; width: 100%; margin: 0 auto;\">\n",
    "Fill out the update table for the bias in the answer cell below.\n",
    "\n",
    "_Hint:_ think carefully whether the bias update should depend on $e$ and/or on $x$.\n",
    "</div>"
   ]
  },
  {
   "cell_type": "markdown",
   "metadata": {},
   "source": [
    "### Answer 7\n",
    "<div style=\"height: 10px;\"></div>\n",
    "<div style=\"border: 2px solid black; padding: 10px; width: 100%; margin: 0 auto;\">\n",
    "See table:\n",
    "</div>\n",
    "\n",
    "| $e$    | $b$      | $\\Delta b$|\n",
    "| ----------:|:------:| -----:|\n",
    "| > 0         | > 0    |   +    |\n",
    "| > 0         | < 0    |   +    |\n",
    "| < 0         | > 0    |   -    |\n",
    "| < 0         | < 0    |   -    |"
   ]
  },
  {
   "cell_type": "markdown",
   "metadata": {},
   "source": [
    "You hopefully came to the conclusion that we need to change the bias based only on $e$, and in fact it turns out that in the perceptron, we generally use $\\Delta b = e = (y-\\hat{y})$. We are now fully equipped to _train_ our neuron to classify data.\n",
    "\n",
    "There's one last element that we are missing, which is the *learning rate*. Essentially, we can modulate *how much* we change our parameters (the weights and the bias) for each new data point that we observe. We want to avoid that when see a new data point we drastically change our parameters (potentially erasing what we learned before), rather we want to make small adjustments at every new observation. The learning rate, which we call $\\alpha$, is generally (but not necessarily) treated as a *hyperparameter*, meaning that we don't learn it from our data, but we manually set it to a value. So our full parameter update becomes: \n",
    "\n",
    "\\begin{align}\n",
    "w &= w + \\alpha \\Delta w = w + \\alpha (y-\\hat{y})x \\\\\n",
    "b &= b + \\alpha \\Delta b = b + \\alpha (y-\\hat{y})\n",
    "\\end{align}\n",
    "\n",
    "## Part 2 - Training a perceptron\n",
    "\n",
    "Let's first generate some data: run the cell below which will generate and plot data.  "
   ]
  },
  {
   "cell_type": "code",
   "execution_count": 2,
   "metadata": {},
   "outputs": [
    {
     "data": {
      "image/png": "[encoded data removed]",
      "text/plain": [
       "<Figure size 560x560 with 1 Axes>"
      ]
     },
     "metadata": {},
     "output_type": "display_data"
    }
   ],
   "source": [
    "import numpy as np\n",
    "import matplotlib.pyplot as plt\n",
    "import matplotlib as mpl\n",
    "mpl.rcParams['figure.dpi']= 80\n",
    "import seaborn as sns\n",
    "from sklearn.datasets import make_blobs\n",
    "\n",
    "cluster_std = [[0.2, 0.2], [0.2, 0.2]]\n",
    "centers     = [[1, 2], [2, 1]]\n",
    "X, y = make_blobs(n_samples=50, n_features=2, cluster_std=cluster_std,\n",
    "                  centers=centers,shuffle=True)\n",
    "f, ax = plt.subplots(1, 1, figsize=[7, 7])\n",
    "ax.scatter(X[y == 0, 0], X[y == 0, 1], color='g', s=40)\n",
    "ax.scatter(X[y == 1, 0], X[y == 1, 1], color='r', s=40)\n",
    "ax.set_xlabel('p1')\n",
    "ax.set_ylabel('p2')\n",
    "plt.show()"
   ]
  },
  {
   "cell_type": "markdown",
   "metadata": {},
   "source": [
    "In the plot above, every dot represents a combination of values of $x_1$ and $x_2$. The color indicated whether our neuron should output a 0 or a 1 for that combination. To continue the analogy of $x_1$ and $x_2$ representing features of a visual scene, the red dots correspond to situations which our neuron should classify as dangerous.\n",
    "\n",
    "Now we are good to go. In this simulation, we are going to train our neuron using the equations for $\\Delta w$ and $\\Delta b$ you derived. This is going to work as follows: we loop through every point in the dataset, we know what our neuron outputs ($\\hat{y}$), and we know what the output _should_ be $(y)$. This means that we can compute $\\Delta w$ and $\\Delta b$ and update our synapses and bias as\n",
    "\n",
    "\\begin{align}\n",
    "w_i &= w_i +  \\Delta w_i = w_i + (y - \\hat{y})x_i \\\\\n",
    "b &= b +  \\Delta b = b + (y - \\hat{y})\n",
    "\\end{align}\n",
    "\n",
    "Every time we observe a new data point, we can update our parameters accordingly. In the simulation, we loop over our dataset and for every data point update weights and bias. After every update we plot the _decision boundary_  and the _training accuracy_ (the number of points in our dataset that are classified correctly given the current weight and bias). "
   ]
  },
  {
   "cell_type": "markdown",
   "metadata": {},
   "source": [
    "### Question 2.1\n",
    "<div style=\"height: 10px;\"></div>\n",
    "<div style=\"border: 2px solid black; padding: 10px; width: 100%; margin: 0 auto;\">\n",
    "Run the cell below, press 'Initialize' to initialize the simulation and 'Train' to launch the training procedure. Does the neuron learn the correct classification?\n",
    "</div>"
   ]
  },
  {
   "cell_type": "code",
   "execution_count": 3,
   "metadata": {
    "scrolled": true
   },
   "outputs": [
    {
     "data": {
      "image/png": "[encoded data removed]",
      "text/plain": [
       "<Figure size 1200x400 with 2 Axes>"
      ]
     },
     "metadata": {},
     "output_type": "display_data"
    }
   ],
   "source": [
    "from utils_assignment_3 import Neuron, mlp_simulation\n",
    "sim = mlp_simulation(X, y)\n",
    "sim.start()"
   ]
  },
  {
   "cell_type": "markdown",
   "metadata": {},
   "source": [
    "### Answer 2.1\n",
    "<div style=\"height: 10px;\"></div>\n",
    "<div style=\"border: 2px solid black; padding: 10px; width: 100%; margin: 0 auto;\">\n",
    "Should work. \n",
    "</div>"
   ]
  },
  {
   "cell_type": "markdown",
   "metadata": {},
   "source": [
    "### Question 2.2\n",
    "<div style=\"height: 10px;\"></div>\n",
    "<div style=\"border: 2px solid black; padding: 10px; width: 100%; margin: 0 auto;\">\n",
    "We now change the distribution of our data: run the cell below and initialize the simulation. Do you think that the classification problem became easier or harder?\n",
    "</div>"
   ]
  },
  {
   "cell_type": "code",
   "execution_count": 11,
   "metadata": {
    "scrolled": true
   },
   "outputs": [
    {
     "data": {
      "image/png": "[encoded data removed]",
      "text/plain": [
       "<matplotlib.figure.Figure at 0x7fd500e155f8>"
      ]
     },
     "metadata": {},
     "output_type": "display_data"
    }
   ],
   "source": [
    "cluster_std = [[1, 0.3], [1, 0.3]]\n",
    "centers     = [[1, 2], [2, 1]]\n",
    "X, y = make_blobs(n_samples=50, n_features=2, cluster_std=cluster_std,\n",
    "                  centers=centers,shuffle=True)\n",
    "sim = mlp_simulation(X, y)\n",
    "sim.start()\n"
   ]
  },
  {
   "cell_type": "markdown",
   "metadata": {},
   "source": [
    "### Answer 2.2\n",
    "<div style=\"height: 10px;\"></div>\n",
    "<div style=\"border: 2px solid black; padding: 10px; width: 100%; margin: 0 auto;\">\n",
    "Harder!\n",
    "</div>"
   ]
  },
  {
   "cell_type": "markdown",
   "metadata": {},
   "source": [
    "### Question 2.3\n",
    "<div style=\"height: 10px;\"></div>\n",
    "<div style=\"border: 2px solid black; padding: 10px; width: 100%; margin: 0 auto;\">\n",
    "You can see that if your run the simulation multiple times (initialization and training), it will converge to different solution. So given the same classification problem and the same inputs we will not get the same weights. What are 2 sources of this variability? (hint: think about how the network initializes and trains)\n",
    "</div>"
   ]
  },
  {
   "cell_type": "markdown",
   "metadata": {},
   "source": [
    "### Answer 2.3\n",
    "<div style=\"height: 10px;\"></div>\n",
    "<div style=\"border: 2px solid black; padding: 10px; width: 100%; margin: 0 auto;\">\n",
    "(1) The network inializes the weights randomly. So it starts with different initial settings. This impacts the solution given the difference between target and actual is computed. \n",
    "\n",
    "(2) The network updates by randomly going over the datapoints and updating weights. The order in which you update will impact the final solution.\n",
    "</div>"
   ]
  },
  {
   "cell_type": "markdown",
   "metadata": {},
   "source": [
    "### Question 2.4\n",
    "<div style=\"height: 10px;\"></div>\n",
    "<div style=\"border: 2px solid black; padding: 10px; width: 100%; margin: 0 auto;\">\n",
    "What could be a weakness of this learning algorithm? Think about how the network updates its weight and bias!\n",
    "</div>"
   ]
  },
  {
   "cell_type": "markdown",
   "metadata": {},
   "source": [
    "### Answer 2.4\n",
    "<div style=\"height: 10px;\"></div>\n",
    "<div style=\"border: 2px solid black; padding: 10px; width: 100%; margin: 0 auto;\">\n",
    "The perceptron (or McCulloch–Pitts neuron) helped to lay the foundation for modern machine-learning algorithms, however, it is also one of the simplest artifical neural networks (it was invented in the 1940s) that has quite a few drawbacks compared to modern networks. Examples are: \n",
    "<br> <br>\n",
    "- Only updates on errors: The perceptron only updates its weights and bias when it makes a mistake (i.e., when its prediction is wrong). If the prediction is correct, no update occurs, even if the model is very close to making an error. (Imagine you would learn to ride a bicycle and the only instances when you would \"learn\" or improve, is when you crash and do a full face-plant....)\n",
    "<br><br>\n",
    "- Fixed learning rate: As you might have noticed when playing around with the learning rate slider, the learning rate can be too small (hardly any learning despite hundred of runs) or too large (the network makes big jumps and cannot converge to a satisfying solution), so there is a trade-off between the rate of convergence and overshooting. The network we used in this practical has no capacity to adapt the learning rate.\n",
    "<br><br>\n",
    "- Rigid updates of weights/biases: Related to the fixed learning rate, the network's updates of the weights and bias are not dependent on the size of the error, but static. This means that when updating, the network doesnt take into account whether its decision boundary for one sample was only off by a tiny amount (which would requite a tiny adjustment) or off by a large margin (which would require a large adjustment). The only information it takes into account is  whether its classification was right or wrong, without any nuance.\n",
    "</div>"
   ]
  },
  {
   "cell_type": "markdown",
   "metadata": {},
   "source": [
    "### Segway to the next assignment:\n",
    "As in the previous assigment, we are dealing with a _linear classifier_. Let's generate some more complicated data distribution, and see how our perceptron fails."
   ]
  },
  {
   "cell_type": "code",
   "execution_count": 4,
   "metadata": {},
   "outputs": [
    {
     "data": {
      "application/vnd.jupyter.widget-view+json": {
       "model_id": "14d7274fe23547c8a7e8a71a6f7d0cd8"
      }
     },
     "metadata": {},
     "output_type": "display_data"
    }
   ],
   "source": [
    "from sklearn.datasets import make_moons, make_circles\n",
    "X, y = make_moons(n_samples=50, shuffle=True, noise=0.05)\n",
    "\n",
    "sim = mlp_simulation(X, y)\n",
    "sim.start()"
   ]
  }
 ],
 "metadata": {
  "kernelspec": {
   "display_name": "Python 3",
   "language": "python",
   "name": "python3"
  },
  "language_info": {
   "codemirror_mode": {
    "name": "ipython",
    "version": 3
   },
   "file_extension": ".py",
   "mimetype": "text/x-python",
   "name": "python",
   "nbconvert_exporter": "python",
   "pygments_lexer": "ipython3",
   "version": "3.6.2"
  }
 },
 "nbformat": 4,
 "nbformat_minor": 1
}
